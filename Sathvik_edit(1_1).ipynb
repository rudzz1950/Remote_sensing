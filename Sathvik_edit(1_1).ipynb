{
  "cells": [
    {
      "cell_type": "markdown",
      "metadata": {
        "id": "view-in-github",
        "colab_type": "text"
      },
      "source": [
        "<a href=\"https://colab.research.google.com/github/rudzz1950/Remote_sensing/blob/main/Satvik_edit(1_1).ipynb\" target=\"_parent\"><img src=\"https://colab.research.google.com/assets/colab-badge.svg\" alt=\"Open In Colab\"/></a>"
      ]
    },
    {
      "cell_type": "markdown",
      "source": [
        "## Project Architecture\n"
      ],
      "metadata": {
        "id": "mwqcrutT_ohz"
      }
    },
    {
      "cell_type": "code",
      "execution_count": null,
      "metadata": {
        "id": "Ie5uLDH4uzAp",
        "colab": {
          "base_uri": "https://localhost:8080/"
        },
        "outputId": "d7b383e2-008d-4387-a0bd-48c191de293c"
      },
      "outputs": [
        {
          "output_type": "stream",
          "name": "stderr",
          "text": [
            "'git' is not recognized as an internal or external command,\n",
            "operable program or batch file.\n",
            "The system cannot find the path specified.\n"
          ]
        }
      ],
      "source": [
        "!git clone https://github.com/ultralytics/ultralytics.git  # Clone YOLOv8 repo\n",
        "!cd ultralytics\n"
      ]
    },
    {
      "cell_type": "markdown",
      "source": [
        "1. Input image\n",
        "https://drive.google.com/file/d/1HFFAzC9S3yl8BtZ0WZGwt5h_HuK8OHdx/view?usp=sharing\n",
        "\n",
        "2. Output image\n",
        "https://drive.google.com/file/d/1fYcPXh60cLzIE1CLh0k6yNe89TAR7Ja6/view?usp=sharing"
      ],
      "metadata": {
        "id": "6I9Ljbdu_ZVS"
      }
    },
    {
      "cell_type": "code",
      "source": [
        "!pip install ultralytics\n"
      ],
      "metadata": {
        "id": "rNlO0H43MU3S",
        "colab": {
          "base_uri": "https://localhost:8080/"
        },
        "outputId": "d6829bb5-de72-49b5-fe0a-f65154da9583"
      },
      "execution_count": null,
      "outputs": [
        {
          "output_type": "stream",
          "name": "stdout",
          "text": [
            "Requirement already satisfied: ultralytics in c:\\users\\admin\\appdata\\local\\programs\\python\\python313\\lib\\site-packages (8.3.89)\n",
            "Requirement already satisfied: numpy<=2.1.1,>=1.23.0 in c:\\users\\admin\\appdata\\local\\programs\\python\\python313\\lib\\site-packages (from ultralytics) (2.1.1)\n",
            "Requirement already satisfied: matplotlib>=3.3.0 in c:\\users\\admin\\appdata\\local\\programs\\python\\python313\\lib\\site-packages (from ultralytics) (3.10.1)\n",
            "Requirement already satisfied: opencv-python>=4.6.0 in c:\\users\\admin\\appdata\\local\\programs\\python\\python313\\lib\\site-packages (from ultralytics) (4.11.0.86)\n",
            "Requirement already satisfied: pillow>=7.1.2 in c:\\users\\admin\\appdata\\local\\programs\\python\\python313\\lib\\site-packages (from ultralytics) (11.1.0)\n",
            "Requirement already satisfied: pyyaml>=5.3.1 in c:\\users\\admin\\appdata\\local\\programs\\python\\python313\\lib\\site-packages (from ultralytics) (6.0.2)\n",
            "Requirement already satisfied: requests>=2.23.0 in c:\\users\\admin\\appdata\\local\\programs\\python\\python313\\lib\\site-packages (from ultralytics) (2.32.3)\n",
            "Requirement already satisfied: scipy>=1.4.1 in c:\\users\\admin\\appdata\\local\\programs\\python\\python313\\lib\\site-packages (from ultralytics) (1.15.2)\n",
            "Requirement already satisfied: torch>=1.8.0 in c:\\users\\admin\\appdata\\local\\programs\\python\\python313\\lib\\site-packages (from ultralytics) (2.6.0)\n",
            "Requirement already satisfied: torchvision>=0.9.0 in c:\\users\\admin\\appdata\\local\\programs\\python\\python313\\lib\\site-packages (from ultralytics) (0.21.0)\n",
            "Requirement already satisfied: tqdm>=4.64.0 in c:\\users\\admin\\appdata\\local\\programs\\python\\python313\\lib\\site-packages (from ultralytics) (4.67.1)\n",
            "Requirement already satisfied: psutil in c:\\users\\admin\\appdata\\local\\programs\\python\\python313\\lib\\site-packages (from ultralytics) (7.0.0)\n",
            "Requirement already satisfied: py-cpuinfo in c:\\users\\admin\\appdata\\local\\programs\\python\\python313\\lib\\site-packages (from ultralytics) (9.0.0)\n",
            "Requirement already satisfied: pandas>=1.1.4 in c:\\users\\admin\\appdata\\local\\programs\\python\\python313\\lib\\site-packages (from ultralytics) (2.2.3)\n",
            "Requirement already satisfied: seaborn>=0.11.0 in c:\\users\\admin\\appdata\\local\\programs\\python\\python313\\lib\\site-packages (from ultralytics) (0.13.2)\n",
            "Requirement already satisfied: ultralytics-thop>=2.0.0 in c:\\users\\admin\\appdata\\local\\programs\\python\\python313\\lib\\site-packages (from ultralytics) (2.0.14)\n",
            "Requirement already satisfied: contourpy>=1.0.1 in c:\\users\\admin\\appdata\\local\\programs\\python\\python313\\lib\\site-packages (from matplotlib>=3.3.0->ultralytics) (1.3.1)\n",
            "Requirement already satisfied: cycler>=0.10 in c:\\users\\admin\\appdata\\local\\programs\\python\\python313\\lib\\site-packages (from matplotlib>=3.3.0->ultralytics) (0.12.1)\n",
            "Requirement already satisfied: fonttools>=4.22.0 in c:\\users\\admin\\appdata\\local\\programs\\python\\python313\\lib\\site-packages (from matplotlib>=3.3.0->ultralytics) (4.56.0)\n",
            "Requirement already satisfied: kiwisolver>=1.3.1 in c:\\users\\admin\\appdata\\local\\programs\\python\\python313\\lib\\site-packages (from matplotlib>=3.3.0->ultralytics) (1.4.8)\n",
            "Requirement already satisfied: packaging>=20.0 in c:\\users\\admin\\appdata\\local\\programs\\python\\python313\\lib\\site-packages (from matplotlib>=3.3.0->ultralytics) (24.2)\n",
            "Requirement already satisfied: pyparsing>=2.3.1 in c:\\users\\admin\\appdata\\local\\programs\\python\\python313\\lib\\site-packages (from matplotlib>=3.3.0->ultralytics) (3.2.1)\n",
            "Requirement already satisfied: python-dateutil>=2.7 in c:\\users\\admin\\appdata\\local\\programs\\python\\python313\\lib\\site-packages (from matplotlib>=3.3.0->ultralytics) (2.9.0.post0)\n",
            "Requirement already satisfied: pytz>=2020.1 in c:\\users\\admin\\appdata\\local\\programs\\python\\python313\\lib\\site-packages (from pandas>=1.1.4->ultralytics) (2025.1)\n",
            "Requirement already satisfied: tzdata>=2022.7 in c:\\users\\admin\\appdata\\local\\programs\\python\\python313\\lib\\site-packages (from pandas>=1.1.4->ultralytics) (2025.1)\n",
            "Requirement already satisfied: charset-normalizer<4,>=2 in c:\\users\\admin\\appdata\\local\\programs\\python\\python313\\lib\\site-packages (from requests>=2.23.0->ultralytics) (3.4.1)\n",
            "Requirement already satisfied: idna<4,>=2.5 in c:\\users\\admin\\appdata\\roaming\\python\\python313\\site-packages (from requests>=2.23.0->ultralytics) (3.7)\n",
            "Requirement already satisfied: urllib3<3,>=1.21.1 in c:\\users\\admin\\appdata\\local\\programs\\python\\python313\\lib\\site-packages (from requests>=2.23.0->ultralytics) (2.3.0)\n",
            "Requirement already satisfied: certifi>=2017.4.17 in c:\\users\\admin\\appdata\\local\\programs\\python\\python313\\lib\\site-packages (from requests>=2.23.0->ultralytics) (2025.1.31)\n",
            "Requirement already satisfied: filelock in c:\\users\\admin\\appdata\\local\\programs\\python\\python313\\lib\\site-packages (from torch>=1.8.0->ultralytics) (3.17.0)\n",
            "Requirement already satisfied: typing-extensions>=4.10.0 in c:\\users\\admin\\appdata\\local\\programs\\python\\python313\\lib\\site-packages (from torch>=1.8.0->ultralytics) (4.12.2)\n",
            "Requirement already satisfied: networkx in c:\\users\\admin\\appdata\\local\\programs\\python\\python313\\lib\\site-packages (from torch>=1.8.0->ultralytics) (3.4.2)\n",
            "Requirement already satisfied: jinja2 in c:\\users\\admin\\appdata\\local\\programs\\python\\python313\\lib\\site-packages (from torch>=1.8.0->ultralytics) (3.1.6)\n",
            "Requirement already satisfied: fsspec in c:\\users\\admin\\appdata\\local\\programs\\python\\python313\\lib\\site-packages (from torch>=1.8.0->ultralytics) (2025.3.0)\n",
            "Requirement already satisfied: setuptools in c:\\users\\admin\\appdata\\local\\programs\\python\\python313\\lib\\site-packages (from torch>=1.8.0->ultralytics) (76.0.0)\n",
            "Requirement already satisfied: sympy==1.13.1 in c:\\users\\admin\\appdata\\local\\programs\\python\\python313\\lib\\site-packages (from torch>=1.8.0->ultralytics) (1.13.1)\n",
            "Requirement already satisfied: mpmath<1.4,>=1.1.0 in c:\\users\\admin\\appdata\\local\\programs\\python\\python313\\lib\\site-packages (from sympy==1.13.1->torch>=1.8.0->ultralytics) (1.3.0)\n",
            "Requirement already satisfied: colorama in c:\\users\\admin\\appdata\\local\\programs\\python\\python313\\lib\\site-packages (from tqdm>=4.64.0->ultralytics) (0.4.6)\n",
            "Requirement already satisfied: six>=1.5 in c:\\users\\admin\\appdata\\local\\programs\\python\\python313\\lib\\site-packages (from python-dateutil>=2.7->matplotlib>=3.3.0->ultralytics) (1.17.0)\n",
            "Requirement already satisfied: MarkupSafe>=2.0 in c:\\users\\admin\\appdata\\local\\programs\\python\\python313\\lib\\site-packages (from jinja2->torch>=1.8.0->ultralytics) (3.0.2)\n"
          ]
        }
      ]
    },
    {
      "cell_type": "markdown",
      "source": [
        "## Implementation"
      ],
      "metadata": {
        "id": "ECieZUKN-i8k"
      }
    },
    {
      "cell_type": "code",
      "execution_count": null,
      "metadata": {
        "id": "wbvMlHd_QwMG",
        "colab": {
          "base_uri": "https://localhost:8080/"
        },
        "outputId": "b6d0ad15-b378-4805-cad3-a05ccfc74141"
      },
      "outputs": [
        {
          "output_type": "stream",
          "name": "stdout",
          "text": [
            "Setup complete. Using torch 2.6.0+cpu on CPU\n",
            "YOLOv8 model loaded successfully!\n"
          ]
        }
      ],
      "source": [
        "import torch\n",
        "from ultralytics import YOLO\n",
        "from IPython.display import clear_output\n",
        "\n",
        "# Check PyTorch and CUDA\n",
        "device = \"CUDA\" if torch.cuda.is_available() else \"CPU\"\n",
        "print(f\"Setup complete. Using torch {torch.__version__} on {device}\")\n",
        "\n",
        "# Load a YOLOv8 model to test\n",
        "model = YOLO(\"yolov8m.pt\")  # Load the nano model\n",
        "print(\"YOLOv8 model loaded successfully!\")\n"
      ]
    },
    {
      "cell_type": "code",
      "source": [
        "import certifi\n",
        "print(certifi.where())"
      ],
      "metadata": {
        "colab": {
          "base_uri": "https://localhost:8080/"
        },
        "id": "BkJNP21pUTUU",
        "outputId": "7314c987-5cf4-4dc7-8bdb-df8df8ecebb4"
      },
      "execution_count": null,
      "outputs": [
        {
          "output_type": "stream",
          "name": "stdout",
          "text": [
            "C:\\Users\\Admin\\AppData\\Local\\Programs\\Python\\Python313\\Lib\\site-packages\\certifi\\cacert.pem\n"
          ]
        }
      ]
    },
    {
      "cell_type": "code",
      "source": [
        "import os\n",
        "import certifi\n",
        "\n",
        "os.environ[\"SSL_CERT_FILE\"] = certifi.where()\n"
      ],
      "metadata": {
        "id": "RNW6fMV4VkPM"
      },
      "execution_count": null,
      "outputs": []
    },
    {
      "cell_type": "code",
      "source": [
        "# Install Roboflow\n",
        "!pip install roboflow"
      ],
      "metadata": {
        "colab": {
          "base_uri": "https://localhost:8080/"
        },
        "id": "PAxErBj-Vyc7",
        "outputId": "08ad1ea7-e4c0-4e25-af5c-4a2ebe9c449e"
      },
      "execution_count": null,
      "outputs": [
        {
          "output_type": "stream",
          "name": "stdout",
          "text": [
            "Requirement already satisfied: roboflow in c:\\users\\admin\\appdata\\roaming\\python\\python313\\site-packages (1.1.57)\n",
            "Requirement already satisfied: certifi in c:\\users\\admin\\appdata\\local\\programs\\python\\python313\\lib\\site-packages (from roboflow) (2025.1.31)\n",
            "Requirement already satisfied: idna==3.7 in c:\\users\\admin\\appdata\\roaming\\python\\python313\\site-packages (from roboflow) (3.7)\n",
            "Requirement already satisfied: cycler in c:\\users\\admin\\appdata\\local\\programs\\python\\python313\\lib\\site-packages (from roboflow) (0.12.1)\n",
            "Requirement already satisfied: kiwisolver>=1.3.1 in c:\\users\\admin\\appdata\\local\\programs\\python\\python313\\lib\\site-packages (from roboflow) (1.4.8)\n",
            "Requirement already satisfied: matplotlib in c:\\users\\admin\\appdata\\local\\programs\\python\\python313\\lib\\site-packages (from roboflow) (3.10.1)\n",
            "Requirement already satisfied: numpy>=1.18.5 in c:\\users\\admin\\appdata\\local\\programs\\python\\python313\\lib\\site-packages (from roboflow) (2.1.1)\n",
            "Requirement already satisfied: opencv-python-headless==4.10.0.84 in c:\\users\\admin\\appdata\\roaming\\python\\python313\\site-packages (from roboflow) (4.10.0.84)\n",
            "Requirement already satisfied: Pillow>=7.1.2 in c:\\users\\admin\\appdata\\local\\programs\\python\\python313\\lib\\site-packages (from roboflow) (11.1.0)\n",
            "Requirement already satisfied: python-dateutil in c:\\users\\admin\\appdata\\local\\programs\\python\\python313\\lib\\site-packages (from roboflow) (2.9.0.post0)\n",
            "Requirement already satisfied: python-dotenv in c:\\users\\admin\\appdata\\local\\programs\\python\\python313\\lib\\site-packages (from roboflow) (1.0.1)\n",
            "Requirement already satisfied: requests in c:\\users\\admin\\appdata\\local\\programs\\python\\python313\\lib\\site-packages (from roboflow) (2.32.3)\n",
            "Requirement already satisfied: six in c:\\users\\admin\\appdata\\local\\programs\\python\\python313\\lib\\site-packages (from roboflow) (1.17.0)\n",
            "Requirement already satisfied: urllib3>=1.26.6 in c:\\users\\admin\\appdata\\local\\programs\\python\\python313\\lib\\site-packages (from roboflow) (2.3.0)\n",
            "Requirement already satisfied: tqdm>=4.41.0 in c:\\users\\admin\\appdata\\local\\programs\\python\\python313\\lib\\site-packages (from roboflow) (4.67.1)\n",
            "Requirement already satisfied: PyYAML>=5.3.1 in c:\\users\\admin\\appdata\\local\\programs\\python\\python313\\lib\\site-packages (from roboflow) (6.0.2)\n",
            "Requirement already satisfied: requests-toolbelt in c:\\users\\admin\\appdata\\roaming\\python\\python313\\site-packages (from roboflow) (1.0.0)\n",
            "Requirement already satisfied: filetype in c:\\users\\admin\\appdata\\local\\programs\\python\\python313\\lib\\site-packages (from roboflow) (1.2.0)\n",
            "Requirement already satisfied: colorama in c:\\users\\admin\\appdata\\local\\programs\\python\\python313\\lib\\site-packages (from tqdm>=4.41.0->roboflow) (0.4.6)\n",
            "Requirement already satisfied: contourpy>=1.0.1 in c:\\users\\admin\\appdata\\local\\programs\\python\\python313\\lib\\site-packages (from matplotlib->roboflow) (1.3.1)\n",
            "Requirement already satisfied: fonttools>=4.22.0 in c:\\users\\admin\\appdata\\local\\programs\\python\\python313\\lib\\site-packages (from matplotlib->roboflow) (4.56.0)\n",
            "Requirement already satisfied: packaging>=20.0 in c:\\users\\admin\\appdata\\local\\programs\\python\\python313\\lib\\site-packages (from matplotlib->roboflow) (24.2)\n",
            "Requirement already satisfied: pyparsing>=2.3.1 in c:\\users\\admin\\appdata\\local\\programs\\python\\python313\\lib\\site-packages (from matplotlib->roboflow) (3.2.1)\n",
            "Requirement already satisfied: charset-normalizer<4,>=2 in c:\\users\\admin\\appdata\\local\\programs\\python\\python313\\lib\\site-packages (from requests->roboflow) (3.4.1)\n"
          ]
        }
      ]
    },
    {
      "cell_type": "code",
      "source": [
        "# import requests\n",
        "# import certifi\n",
        "\n",
        "# session = requests.Session()\n",
        "# session.verify = certifi.where()\n",
        "\n",
        "# response = session.get(\"https://api.roboflow.com\")\n",
        "# print(response.status_code)\n",
        "\n"
      ],
      "metadata": {
        "id": "rzObluCqXeHk"
      },
      "execution_count": null,
      "outputs": []
    },
    {
      "cell_type": "code",
      "source": [
        "import os\n",
        "\n",
        "# Define the base path for YOLOv8 dataset\n",
        "base_path = r\"C:\\Users\\Admin\\Desktop\\House_alloc\"  # Adjust to match your dataset (e.g., 'house_alloc-17')\n",
        "\n",
        "# Define all required subdirectories\n",
        "subdirs = [\n",
        "    'train/images',\n",
        "    'train/labels',\n",
        "    'valid/images',\n",
        "    'valid/labels',\n",
        "    'test/images',\n",
        "    'test/labels'\n",
        "]\n",
        "\n",
        "# Create directories\n",
        "try:\n",
        "    for subdir in subdirs:\n",
        "        dir_path = os.path.join(base_path, subdir)\n",
        "        os.makedirs(dir_path, exist_ok=True)\n",
        "    print(\"Directories for YOLOv8 dataset created successfully!\")\n",
        "except Exception as e:\n",
        "    print(f\"Failed to create directories: {e}\")\n",
        "\n",
        "# Verify the structure\n",
        "print(\"Created directory structure:\")\n",
        "for subdir in subdirs:\n",
        "    print(f\"- {os.path.join(base_path, subdir)}\")"
      ],
      "metadata": {
        "id": "kiqfSv9_NMTT",
        "colab": {
          "base_uri": "https://localhost:8080/"
        },
        "outputId": "3b822530-a513-4bda-d895-00b7896b116a"
      },
      "execution_count": null,
      "outputs": [
        {
          "output_type": "stream",
          "name": "stdout",
          "text": [
            "Directories for YOLOv8 dataset created successfully!\n",
            "Created directory structure:\n",
            "- C:\\Users\\Admin\\Desktop\\House_alloc\\train/images\n",
            "- C:\\Users\\Admin\\Desktop\\House_alloc\\train/labels\n",
            "- C:\\Users\\Admin\\Desktop\\House_alloc\\valid/images\n",
            "- C:\\Users\\Admin\\Desktop\\House_alloc\\valid/labels\n",
            "- C:\\Users\\Admin\\Desktop\\House_alloc\\test/images\n",
            "- C:\\Users\\Admin\\Desktop\\House_alloc\\test/labels\n"
          ]
        }
      ]
    },
    {
      "cell_type": "markdown",
      "source": [
        "-------------------------------------------------------------\n"
      ],
      "metadata": {
        "id": "2VlX-RKzN4It"
      }
    },
    {
      "cell_type": "code",
      "source": [
        "import os\n",
        "\n",
        "dataset_location = base_path\n",
        "print(\"Checking dataset folder:\", os.path.exists(dataset_location))\n",
        "print(\"Contents:\", os.listdir(dataset_location) if os.path.exists(dataset_location) else \"Folder missing!\")\n"
      ],
      "metadata": {
        "id": "Ogypb47biQT4",
        "colab": {
          "base_uri": "https://localhost:8080/"
        },
        "outputId": "f8bb1a6a-29a2-4220-ddc3-e8f6a0f68465"
      },
      "execution_count": null,
      "outputs": [
        {
          "output_type": "stream",
          "name": "stdout",
          "text": [
            "Checking dataset folder: True\n",
            "Contents: ['data.yaml', 'test', 'train', 'valid']\n"
          ]
        }
      ]
    },
    {
      "cell_type": "code",
      "source": [
        "import locale\n",
        "\n",
        "# Fix locale encoding issue\n",
        "locale.getpreferredencoding = lambda: \"UTF-8\"\n",
        "\n",
        "# Define dataset path (update if needed)\n",
        "dataset_location = base_path\n",
        "\n",
        "# Define the path to the data.yaml file\n",
        "yaml_file = os.path.join(dataset_location, \"data.yaml\")\n",
        "\n",
        "# Check if the YAML file exists and print its contents\n",
        "if os.path.exists(yaml_file):\n",
        "    with open(yaml_file, \"r\", encoding=\"utf-8\") as file:\n",
        "        print(file.read())\n",
        "else:\n",
        "    print(f\"Error: data.yaml not found at {yaml_file}\")"
      ],
      "metadata": {
        "colab": {
          "base_uri": "https://localhost:8080/"
        },
        "id": "mxpcMXNsf7H0",
        "outputId": "fc2063f9-eb27-4311-deee-7b6b651260f5"
      },
      "execution_count": null,
      "outputs": [
        {
          "output_type": "stream",
          "name": "stdout",
          "text": [
            "names:\n",
            "- Houses\n",
            "nc: 1\n",
            "roboflow:\n",
            "  license: CC BY 4.0\n",
            "  project: house_alloc\n",
            "  url: https://universe.roboflow.com/quantela/house_alloc/dataset/13\n",
            "  version: 13\n",
            "  workspace: quantela\n",
            "test: C:/Users/Admin/Desktop/House_alloc/test/images\n",
            "train: C:/Users/Admin/Desktop/House_alloc/train/images\n",
            "val: C:/Users/Admin/Desktop/House_alloc/valid/images\n",
            "\n"
          ]
        }
      ]
    },
    {
      "cell_type": "code",
      "execution_count": null,
      "metadata": {
        "id": "dOPn9wjOAwwK",
        "colab": {
          "base_uri": "https://localhost:8080/"
        },
        "outputId": "db9fc4c0-7114-46b5-d1fb-e98463f79cc3"
      },
      "outputs": [
        {
          "output_type": "stream",
          "name": "stdout",
          "text": [
            "names:\n",
            "- Houses\n",
            "nc: 1\n",
            "roboflow:\n",
            "  license: CC BY 4.0\n",
            "  project: house_alloc\n",
            "  url: https://universe.roboflow.com/quantela/house_alloc/dataset/13\n",
            "  version: 13\n",
            "  workspace: quantela\n",
            "test: C:/Users/Admin/Desktop/House_alloc/test/images\n",
            "train: C:/Users/Admin/Desktop/House_alloc/train/images\n",
            "val: C:/Users/Admin/Desktop/House_alloc/valid/images\n",
            "\n"
          ]
        }
      ],
      "source": [
        "import yaml\n",
        "import os\n",
        "\n",
        "# Dataset location (update with your actual path)\n",
        "dataset_location = base_path\n",
        "yaml_path = os.path.join(dataset_location, \"data.yaml\")\n",
        "\n",
        "# Read and update the YAML\n",
        "with open(yaml_path, \"r\", encoding=\"utf-8\") as f:\n",
        "    data = yaml.safe_load(f)\n",
        "\n",
        "# Fix relative paths\n",
        "data[\"train\"] = os.path.join(dataset_location, \"train/images\").replace(\"\\\\\", \"/\")\n",
        "data[\"val\"] = os.path.join(dataset_location, \"valid/images\").replace(\"\\\\\", \"/\")\n",
        "data[\"test\"] = os.path.join(dataset_location, \"test/images\").replace(\"\\\\\", \"/\")\n",
        "\n",
        "# Write back\n",
        "with open(yaml_path, \"w\", encoding=\"utf-8\") as f:\n",
        "    yaml.safe_dump(data, f)\n",
        "\n",
        "# Verify the updated YAML file\n",
        "with open(yaml_path, \"r\", encoding=\"utf-8\") as f:\n",
        "    print(f.read())"
      ]
    },
    {
      "cell_type": "code",
      "source": [
        "import os\n",
        "\n",
        "path = r\"C:\\Users\\Admin\\AppData\\Local\\Programs\\Python\\Python313\\Lib\\site-packages\\ultralytics\\cfg\\models\\v8\"\n",
        "if os.path.exists(path):\n",
        "    print(os.listdir(path))\n",
        "else:\n",
        "    print(\"Path does not exist.\")"
      ],
      "metadata": {
        "colab": {
          "base_uri": "https://localhost:8080/"
        },
        "id": "zfVbsoRChV5k",
        "outputId": "a2651caf-588e-451a-b904-b7cbe60b59ad"
      },
      "execution_count": null,
      "outputs": [
        {
          "output_type": "stream",
          "name": "stdout",
          "text": [
            "['yolov8-cls-resnet101.yaml', 'yolov8-cls-resnet50.yaml', 'yolov8-cls.yaml', 'yolov8-ghost-p2.yaml', 'yolov8-ghost-p6.yaml', 'yolov8-ghost.yaml', 'yolov8-obb.yaml', 'yolov8-p2.yaml', 'yolov8-p6.yaml', 'yolov8-pose-p6.yaml', 'yolov8-pose.yaml', 'yolov8-rtdetr.yaml', 'yolov8-seg-p6.yaml', 'yolov8-seg.yaml', 'yolov8-world.yaml', 'yolov8-worldv2.yaml', 'yolov8.yaml']\n"
          ]
        }
      ]
    },
    {
      "cell_type": "code",
      "execution_count": null,
      "metadata": {
        "id": "1Rvt5wilnDyX",
        "colab": {
          "base_uri": "https://localhost:8080/"
        },
        "outputId": "f0cee813-6728-4674-ab7d-89b2b58d17fb"
      },
      "outputs": [
        {
          "output_type": "stream",
          "name": "stdout",
          "text": [
            "# Ultralytics ðŸš€ AGPL-3.0 License - https://ultralytics.com/license\n",
            "\n",
            "# Ultralytics YOLOv8-seg instance segmentation model with P3/8 - P5/32 outputs\n",
            "# Model docs: https://docs.ultralytics.com/models/yolov8\n",
            "# Task docs: https://docs.ultralytics.com/tasks/segment\n",
            "\n",
            "# Parameters\n",
            "nc: 80 # number of classes\n",
            "scales: # model compound scaling constants, i.e. 'model=yolov8n-seg.yaml' will call yolov8-seg.yaml with scale 'n'\n",
            "  # [depth, width, max_channels]\n",
            "  n: [0.33, 0.25, 1024]\n",
            "  s: [0.33, 0.50, 1024]\n",
            "  m: [0.67, 0.75, 768]\n",
            "  l: [1.00, 1.00, 512]\n",
            "  x: [1.00, 1.25, 512]\n",
            "\n",
            "# YOLOv8.0n backbone\n",
            "backbone:\n",
            "  # [from, repeats, module, args]\n",
            "  - [-1, 1, Conv, [64, 3, 2]] # 0-P1/2\n",
            "  - [-1, 1, Conv, [128, 3, 2]] # 1-P2/4\n",
            "  - [-1, 3, C2f, [128, True]]\n",
            "  - [-1, 1, Conv, [256, 3, 2]] # 3-P3/8\n",
            "  - [-1, 6, C2f, [256, True]]\n",
            "  - [-1, 1, Conv, [512, 3, 2]] # 5-P4/16\n",
            "  - [-1, 6, C2f, [512, True]]\n",
            "  - [-1, 1, Conv, [1024, 3, 2]] # 7-P5/32\n",
            "  - [-1, 3, C2f, [1024, True]]\n",
            "  - [-1, 1, SPPF, [1024, 5]] # 9\n",
            "\n",
            "# YOLOv8.0n head\n",
            "head:\n",
            "  - [-1, 1, nn.Upsample, [None, 2, \"nearest\"]]\n",
            "  - [[-1, 6], 1, Concat, [1]] # cat backbone P4\n",
            "  - [-1, 3, C2f, [512]] # 12\n",
            "\n",
            "  - [-1, 1, nn.Upsample, [None, 2, \"nearest\"]]\n",
            "  - [[-1, 4], 1, Concat, [1]] # cat backbone P3\n",
            "  - [-1, 3, C2f, [256]] # 15 (P3/8-small)\n",
            "\n",
            "  - [-1, 1, Conv, [256, 3, 2]]\n",
            "  - [[-1, 12], 1, Concat, [1]] # cat head P4\n",
            "  - [-1, 3, C2f, [512]] # 18 (P4/16-medium)\n",
            "\n",
            "  - [-1, 1, Conv, [512, 3, 2]]\n",
            "  - [[-1, 9], 1, Concat, [1]] # cat head P5\n",
            "  - [-1, 3, C2f, [1024]] # 21 (P5/32-large)\n",
            "\n",
            "  - [[15, 18, 21], 1, Segment, [nc, 32, 256]] # Segment(P3, P4, P5)\n",
            "\n"
          ]
        }
      ],
      "source": [
        "# # This is the model configuration we will use for our tutorial\n",
        "# %cat /content/ultralytics/ultralytics/cfg/models/v8/yolov8-seg.yaml\n",
        "import os\n",
        "# Path to the YOLOv8 model configuration\n",
        "yaml_path = r\"C:\\Users\\Admin\\AppData\\Local\\Programs\\Python\\Python313\\Lib\\site-packages\\ultralytics\\cfg\\models\\v8\\yolov8-seg.yaml\"\n",
        "\n",
        "# Check if the file exists before reading\n",
        "if os.path.exists(yaml_path):\n",
        "    with open(yaml_path, \"r\") as file:\n",
        "        print(file.read())\n",
        "else:\n",
        "    print(\"File not found:\", yaml_path)"
      ]
    },
    {
      "cell_type": "code",
      "execution_count": null,
      "metadata": {
        "id": "t14hhyqdmw6O"
      },
      "outputs": [],
      "source": [
        "# Register the custom writetemplate magic\n",
        "from IPython.core.magic import register_line_cell_magic\n",
        "\n",
        "@register_line_cell_magic\n",
        "def writetemplate(line, cell):\n",
        "    with open(line, 'w') as f:\n",
        "        f.write(cell.format(**globals()))\n"
      ]
    },
    {
      "cell_type": "code",
      "execution_count": null,
      "metadata": {
        "id": "uDxebz13RdRA",
        "colab": {
          "base_uri": "https://localhost:8080/"
        },
        "outputId": "7fc21843-0632-4698-9a20-301966122204"
      },
      "outputs": [
        {
          "output_type": "stream",
          "name": "stdout",
          "text": [
            "Config file saved at /content/yolov8m-custom.yaml\n"
          ]
        }
      ],
      "source": [
        "# Set number of classes\n",
        "num_classes = 1  # For 'Houses' from house_alloc-17\n",
        "\n",
        "# Write YOLOv8m custom config using Python file I/O\n",
        "config_text = f\"\"\"# YOLOv8 medium custom config\n",
        "nc: {num_classes}  # Number of classes (1 for Houses)\n",
        "depth_multiple: 0.67  # Model depth multiple (medium scale)\n",
        "width_multiple: 0.75  # Layer channel multiple (medium scale)\n",
        "\n",
        "# Backbone\n",
        "backbone:\n",
        "  - [-1, 1, Conv, [64, 3, 2]]  # 0-P1/2\n",
        "  - [-1, 1, Conv, [128, 3, 2]]  # 1-P2/4\n",
        "  - [-1, 3, C2f, [128, True]]   # 2\n",
        "  - [-1, 1, Conv, [256, 3, 2]]  # 3-P3/8\n",
        "  - [-1, 6, C2f, [256, True]]   # 4\n",
        "  - [-1, 1, Conv, [512, 3, 2]]  # 5-P4/16\n",
        "  - [-1, 6, C2f, [512, True]]   # 6\n",
        "  - [-1, 1, Conv, [1024, 3, 2]] # 7-P5/32\n",
        "  - [-1, 3, C2f, [1024, True]]  # 8\n",
        "  - [-1, 1, SPPF, [1024, 5]]    # 9 (SPP block)\n",
        "\n",
        "# Head\n",
        "head:\n",
        "  - [-1, 1, nn.Upsample, [None, 2, 'nearest']]  # 10\n",
        "  - [[-1, 6], 1, Concat, [1]]  # 11 cat backbone P4\n",
        "  - [-1, 3, C2f, [512, True]]   # 12\n",
        "  - [-1, 1, nn.Upsample, [None, 2, 'nearest']]  # 13\n",
        "  - [[-1, 4], 1, Concat, [1]]  # 14 cat backbone P3\n",
        "  - [-1, 3, C2f, [256, True]]   # 15 (P3/8-small)\n",
        "  - [-1, 1, Conv, [256, 3, 2]]  # 16\n",
        "  - [[-1, 12], 1, Concat, [1]]  # 17 cat head P4\n",
        "  - [-1, 3, C2f, [512, True]]   # 18 (P4/16-medium)\n",
        "  - [-1, 1, Conv, [512, 3, 2]]  # 19\n",
        "  - [[-1, 9], 1, Concat, [1]]  # 20 cat head P5\n",
        "  - [-1, 3, C2f, [1024, True]]  # 21 (P5/32-large)\n",
        "  - [[15, 18, 21], 1, Detect, [nc]]  # Detect(P3, P4, P5)\n",
        "\"\"\"\n",
        "\n",
        "# Save the config file\n",
        "config_path = \"/content/yolov8m-custom.yaml\"\n",
        "with open(config_path, \"w\") as f:\n",
        "    f.write(config_text)\n",
        "\n",
        "print(f\"Config file saved at {config_path}\")\n"
      ]
    },
    {
      "cell_type": "code",
      "execution_count": null,
      "metadata": {
        "id": "MSPQthWMMzjI",
        "colab": {
          "base_uri": "https://localhost:8080/"
        },
        "outputId": "a7462b11-192b-4b5c-cff6-04065cd4694a"
      },
      "outputs": [
        {
          "output_type": "execute_result",
          "data": {
            "text/plain": [
              "1"
            ]
          },
          "metadata": {},
          "execution_count": 54
        }
      ],
      "source": [
        "# # Update the Ultralytics repo for YOLOv8\n",
        "# !cd /content/ultralytics && git pull\n",
        "\n",
        "import os\n",
        "\n",
        "repo_path = r\"C:\\Users\\Admin\\AppData\\Local\\Programs\\Python\\Python313\\Lib\\site-packages\\ultralytics\"\n",
        "\n",
        "os.system(f'cd /d \"{repo_path}\" && git pull')"
      ]
    },
    {
      "cell_type": "code",
      "source": [
        "print(dataset_location)"
      ],
      "metadata": {
        "id": "O4QBS5ZOX0jW",
        "colab": {
          "base_uri": "https://localhost:8080/"
        },
        "outputId": "b2aa98cc-5eaf-4960-b410-8fe5a3bdc78b"
      },
      "execution_count": null,
      "outputs": [
        {
          "output_type": "stream",
          "name": "stdout",
          "text": [
            "C:\\Users\\Admin\\Desktop\\House_alloc\n"
          ]
        }
      ]
    },
    {
      "cell_type": "code",
      "source": [
        "import torch\n",
        "print(torch.cuda.is_available())\n",
        "print(torch.cuda.device_count())\n",
        "print(torch.cuda.get_device_name(0) if torch.cuda.is_available() else \"No GPU found\")\n"
      ],
      "metadata": {
        "id": "vjCSEw1s0Pua",
        "colab": {
          "base_uri": "https://localhost:8080/"
        },
        "outputId": "e8c9a4e3-485d-4eda-cce6-dadf27c87a04"
      },
      "execution_count": null,
      "outputs": [
        {
          "output_type": "stream",
          "name": "stdout",
          "text": [
            "True\n",
            "1\n",
            "Tesla T4\n"
          ]
        }
      ]
    },
    {
      "cell_type": "code",
      "execution_count": null,
      "metadata": {
        "id": "1NcFxRcFdJ_O",
        "colab": {
          "base_uri": "https://localhost:8080/"
        },
        "outputId": "0e86f488-c0f9-4d98-9790-95510332174c"
      },
      "outputs": [
        {
          "output_type": "stream",
          "name": "stdout",
          "text": [
            "Transferred 391/475 items from pretrained weights\n",
            "Ultralytics 8.3.89 🚀 Python-3.11.11 torch-2.5.1+cu124 CUDA:0 (Tesla T4, 15095MiB)\n",
            "\u001b[34m\u001b[1mengine/trainer: \u001b[0mtask=detect, mode=train, model=yolov8m-custom.yaml, data=/content/House_alloc-17/data.yaml, epochs=15, time=None, patience=2, batch=16, imgsz=640, save=True, save_period=-1, cache=disk, device=0, workers=4, project=None, name=yolov8m_results_80, exist_ok=False, pretrained=True, optimizer=auto, verbose=True, seed=0, deterministic=True, single_cls=False, rect=False, cos_lr=False, close_mosaic=10, resume=False, amp=True, fraction=1.0, profile=False, freeze=None, multi_scale=False, overlap_mask=True, mask_ratio=4, dropout=0.0, val=True, split=val, save_json=False, save_hybrid=False, conf=None, iou=0.7, max_det=300, half=False, dnn=False, plots=True, source=None, vid_stride=1, stream_buffer=False, visualize=False, augment=True, agnostic_nms=False, classes=None, retina_masks=False, embed=None, show=False, save_frames=False, save_txt=False, save_conf=False, save_crop=False, show_labels=True, show_conf=True, show_boxes=True, line_width=None, format=torchscript, keras=False, optimize=False, int8=False, dynamic=False, simplify=True, opset=None, workspace=None, nms=False, lr0=0.0005, lrf=0.01, momentum=0.937, weight_decay=0.0005, warmup_epochs=3.0, warmup_momentum=0.8, warmup_bias_lr=0.1, box=7.5, cls=0.5, dfl=1.5, pose=12.0, kobj=1.0, nbs=64, hsv_h=0.015, hsv_s=0.7, hsv_v=0.4, degrees=0.0, translate=0.1, scale=0.5, shear=0.0, perspective=0.0, flipud=0.0, fliplr=0.5, bgr=0.0, mosaic=1.0, mixup=0.0, copy_paste=0.0, copy_paste_mode=flip, auto_augment=randaugment, erasing=0.4, crop_fraction=1.0, cfg=None, tracker=botsort.yaml, save_dir=runs/detect/yolov8m_results_80\n",
            "Downloading https://ultralytics.com/assets/Arial.ttf to '/root/.config/Ultralytics/Arial.ttf'...\n"
          ]
        },
        {
          "output_type": "stream",
          "name": "stderr",
          "text": [
            "100%|██████████| 755k/755k [00:00<00:00, 19.8MB/s]\n"
          ]
        },
        {
          "output_type": "stream",
          "name": "stdout",
          "text": [
            "\n",
            "                   from  n    params  module                                       arguments                     \n",
            "  0                  -1  1      1392  ultralytics.nn.modules.conv.Conv             [3, 48, 3, 2]                 \n",
            "  1                  -1  1     41664  ultralytics.nn.modules.conv.Conv             [48, 96, 3, 2]                \n",
            "  2                  -1  2    111360  ultralytics.nn.modules.block.C2f             [96, 96, 2, True]             \n",
            "  3                  -1  1    166272  ultralytics.nn.modules.conv.Conv             [96, 192, 3, 2]               \n",
            "  4                  -1  4    813312  ultralytics.nn.modules.block.C2f             [192, 192, 4, True]           \n",
            "  5                  -1  1    664320  ultralytics.nn.modules.conv.Conv             [192, 384, 3, 2]              \n",
            "  6                  -1  4   3248640  ultralytics.nn.modules.block.C2f             [384, 384, 4, True]           \n",
            "  7                  -1  1   2655744  ultralytics.nn.modules.conv.Conv             [384, 768, 3, 2]              \n",
            "  8                  -1  2   7084032  ultralytics.nn.modules.block.C2f             [768, 768, 2, True]           \n",
            "  9                  -1  1   1476864  ultralytics.nn.modules.block.SPPF            [768, 768, 5]                 \n",
            " 10                  -1  1         0  torch.nn.modules.upsampling.Upsample         [None, 2, 'nearest']          \n",
            " 11             [-1, 6]  1         0  ultralytics.nn.modules.conv.Concat           [1]                           \n",
            " 12                  -1  2   2067456  ultralytics.nn.modules.block.C2f             [1152, 384, 2, True]          \n",
            " 13                  -1  1         0  torch.nn.modules.upsampling.Upsample         [None, 2, 'nearest']          \n",
            " 14             [-1, 4]  1         0  ultralytics.nn.modules.conv.Concat           [1]                           \n",
            " 15                  -1  2    517632  ultralytics.nn.modules.block.C2f             [576, 192, 2, True]           \n",
            " 16                  -1  1    332160  ultralytics.nn.modules.conv.Conv             [192, 192, 3, 2]              \n",
            " 17            [-1, 12]  1         0  ultralytics.nn.modules.conv.Concat           [1]                           \n",
            " 18                  -1  2   1846272  ultralytics.nn.modules.block.C2f             [576, 384, 2, True]           \n",
            " 19                  -1  1   1327872  ultralytics.nn.modules.conv.Conv             [384, 384, 3, 2]              \n",
            " 20             [-1, 9]  1         0  ultralytics.nn.modules.conv.Concat           [1]                           \n",
            " 21                  -1  2   7378944  ultralytics.nn.modules.block.C2f             [1152, 768, 2, True]          \n",
            " 22        [15, 18, 21]  1   4218643  ultralytics.nn.modules.head.Detect           [1, [192, 384, 768]]          \n",
            "YOLOv8m-custom summary: 169 layers, 33,952,579 parameters, 33,952,563 gradients, 85.7 GFLOPs\n",
            "\n",
            "Transferred 475/475 items from pretrained weights\n",
            "\u001b[34m\u001b[1mTensorBoard: \u001b[0mStart with 'tensorboard --logdir runs/detect/yolov8m_results_80', view at http://localhost:6006/\n",
            "Freezing layer 'model.22.dfl.conv.weight'\n",
            "\u001b[34m\u001b[1mAMP: \u001b[0mrunning Automatic Mixed Precision (AMP) checks...\n",
            "Downloading https://github.com/ultralytics/assets/releases/download/v8.3.0/yolo11n.pt to 'yolo11n.pt'...\n"
          ]
        },
        {
          "output_type": "stream",
          "name": "stderr",
          "text": [
            "100%|██████████| 5.35M/5.35M [00:00<00:00, 111MB/s]\n"
          ]
        },
        {
          "output_type": "stream",
          "name": "stdout",
          "text": [
            "\u001b[34m\u001b[1mAMP: \u001b[0mchecks passed ✅\n"
          ]
        },
        {
          "output_type": "stream",
          "name": "stderr",
          "text": [
            "\u001b[34m\u001b[1mtrain: \u001b[0mScanning /content/House_alloc-17/train/labels... 8016 images, 622 backgrounds, 0 corrupt: 100%|██████████| 8016/8016 [00:03<00:00, 2206.35it/s]\n"
          ]
        },
        {
          "output_type": "stream",
          "name": "stdout",
          "text": [
            "\u001b[34m\u001b[1mtrain: \u001b[0mNew cache created: /content/House_alloc-17/train/labels.cache\n",
            "WARNING ⚠️ Box and segment counts should be equal, but got len(segments) = 232, len(boxes) = 66612. To resolve this only boxes will be used and all segments will be removed. To avoid this please supply either a detect or segment dataset, not a detect-segment mixed dataset.\n"
          ]
        },
        {
          "output_type": "stream",
          "name": "stderr",
          "text": [
            "\u001b[34m\u001b[1mtrain: \u001b[0mCaching images (9.2GB Disk): 100%|██████████| 8016/8016 [00:58<00:00, 136.33it/s]\n"
          ]
        },
        {
          "output_type": "stream",
          "name": "stdout",
          "text": [
            "\u001b[34m\u001b[1malbumentations: \u001b[0mBlur(p=0.01, blur_limit=(3, 7)), MedianBlur(p=0.01, blur_limit=(3, 7)), ToGray(p=0.01, num_output_channels=3, method='weighted_average'), CLAHE(p=0.01, clip_limit=(1.0, 4.0), tile_grid_size=(8, 8))\n"
          ]
        },
        {
          "output_type": "stream",
          "name": "stderr",
          "text": [
            "\u001b[34m\u001b[1mval: \u001b[0mScanning /content/House_alloc-17/valid/labels... 538 images, 90 backgrounds, 0 corrupt: 100%|██████████| 538/538 [00:01<00:00, 360.52it/s]"
          ]
        },
        {
          "output_type": "stream",
          "name": "stdout",
          "text": [
            "\u001b[34m\u001b[1mval: \u001b[0mNew cache created: /content/House_alloc-17/valid/labels.cache\n"
          ]
        },
        {
          "output_type": "stream",
          "name": "stderr",
          "text": [
            "\n"
          ]
        },
        {
          "output_type": "stream",
          "name": "stdout",
          "text": [
            "WARNING ⚠️ Box and segment counts should be equal, but got len(segments) = 994, len(boxes) = 8340. To resolve this only boxes will be used and all segments will be removed. To avoid this please supply either a detect or segment dataset, not a detect-segment mixed dataset.\n"
          ]
        },
        {
          "output_type": "stream",
          "name": "stderr",
          "text": [
            "\u001b[34m\u001b[1mval: \u001b[0mCaching images (0.6GB Disk): 100%|██████████| 538/538 [00:03<00:00, 152.50it/s]\n"
          ]
        },
        {
          "output_type": "stream",
          "name": "stdout",
          "text": [
            "Plotting labels to runs/detect/yolov8m_results_80/labels.jpg... \n",
            "\u001b[34m\u001b[1moptimizer:\u001b[0m 'optimizer=auto' found, ignoring 'lr0=0.0005' and 'momentum=0.937' and determining best 'optimizer', 'lr0' and 'momentum' automatically... \n",
            "\u001b[34m\u001b[1moptimizer:\u001b[0m AdamW(lr=0.002, momentum=0.9) with parameter groups 77 weight(decay=0.0), 84 weight(decay=0.0005), 83 bias(decay=0.0)\n",
            "\u001b[34m\u001b[1mTensorBoard: \u001b[0mmodel graph visualization added ✅\n",
            "Image sizes 640 train, 640 val\n",
            "Using 2 dataloader workers\n",
            "Logging results to \u001b[1mruns/detect/yolov8m_results_80\u001b[0m\n",
            "Starting training for 15 epochs...\n",
            "\n",
            "      Epoch    GPU_mem   box_loss   cls_loss   dfl_loss  Instances       Size\n"
          ]
        },
        {
          "output_type": "stream",
          "name": "stderr",
          "text": [
            "       1/15        10G      2.232      2.082      1.706        113        640: 100%|██████████| 501/501 [04:38<00:00,  1.80it/s]\n",
            "                 Class     Images  Instances      Box(P          R      mAP50  mAP50-95): 100%|██████████| 17/17 [00:10<00:00,  1.59it/s]"
          ]
        },
        {
          "output_type": "stream",
          "name": "stdout",
          "text": [
            "                   all        538       8340       0.27      0.296      0.177     0.0541\n"
          ]
        },
        {
          "output_type": "stream",
          "name": "stderr",
          "text": [
            "\n"
          ]
        },
        {
          "output_type": "stream",
          "name": "stdout",
          "text": [
            "\n",
            "      Epoch    GPU_mem   box_loss   cls_loss   dfl_loss  Instances       Size\n"
          ]
        },
        {
          "output_type": "stream",
          "name": "stderr",
          "text": [
            "       2/15        11G        2.2      1.891      1.688        433        640: 100%|██████████| 501/501 [04:31<00:00,  1.85it/s]\n",
            "                 Class     Images  Instances      Box(P          R      mAP50  mAP50-95): 100%|██████████| 17/17 [00:09<00:00,  1.88it/s]\n"
          ]
        },
        {
          "output_type": "stream",
          "name": "stdout",
          "text": [
            "                   all        538       8340      0.291      0.281      0.184     0.0572\n",
            "\n",
            "      Epoch    GPU_mem   box_loss   cls_loss   dfl_loss  Instances       Size\n"
          ]
        },
        {
          "output_type": "stream",
          "name": "stderr",
          "text": [
            "       3/15        11G      2.174      1.844      1.665        174        640: 100%|██████████| 501/501 [04:29<00:00,  1.86it/s]\n",
            "                 Class     Images  Instances      Box(P          R      mAP50  mAP50-95): 100%|██████████| 17/17 [00:08<00:00,  1.90it/s]"
          ]
        },
        {
          "output_type": "stream",
          "name": "stdout",
          "text": [
            "                   all        538       8340      0.329      0.293      0.213     0.0633\n"
          ]
        },
        {
          "output_type": "stream",
          "name": "stderr",
          "text": [
            "\n"
          ]
        },
        {
          "output_type": "stream",
          "name": "stdout",
          "text": [
            "\n",
            "      Epoch    GPU_mem   box_loss   cls_loss   dfl_loss  Instances       Size\n"
          ]
        },
        {
          "output_type": "stream",
          "name": "stderr",
          "text": [
            "       4/15        11G      2.153      1.813      1.653         76        640:  46%|████▌     | 228/501 [02:02<02:27,  1.85it/s]"
          ]
        }
      ],
      "source": [
        "%%time\n",
        "from ultralytics import YOLO\n",
        "\n",
        "# Load pretrained YOLOv8n model\n",
        "model = YOLO(\"yolov8m-custom.yaml\").load(\"yolov8m.pt\")  # Load with pre-trained weights\n",
        "\n",
        "# Start with pretrained weights for better performance\n",
        "\n",
        "# Train the model with optimized parameters\n",
        "model.train(\n",
        "    data=f\"{dataset.location}/data.yaml\",  # Path to your dataset config\n",
        "    epochs=15,                         # Train for 100 epochs to ensure convergence\n",
        "    imgsz=640,                          # Larger image size for better detection\n",
        "    batch=16,                           # Batch size suitable for Tesla T4 GPU\n",
        "    patience=2,                        # Early stopping after 5 epochs of no improvement\n",
        "    cache=\"disk\",                       # Use disk caching for deterministic results\n",
        "    device=0,                           # Use GPU (Tesla T4, CUDA:0)\n",
        "    workers=4,                          # Number of data loader workers\n",
        "    pretrained=True,                    # Explicitly use pretrained weights\n",
        "    lr0=0.0005,                         # Lower initial learning rate for stability\n",
        "    mosaic=1.0,\n",
        "    augment=True,                       # Enable data augmentation\n",
        "    name=\"yolov8m_results_80\",\n",
        ")\n",
        "\n",
        "# Optional: Validate the best model after training\n",
        "model.val()  # Runs validation on the best saved weights"
      ]
    },
    {
      "cell_type": "code",
      "source": [
        "from google.colab import files\n",
        "uploaded = files.upload()\n",
        "\n",
        "img_path = list(uploaded.keys())[0]  # Get the uploaded file name\n",
        "print(\"Using file:\", img_path)\n"
      ],
      "metadata": {
        "id": "ALwqEUEhVaeL"
      },
      "execution_count": null,
      "outputs": []
    },
    {
      "cell_type": "code",
      "source": [
        "import os\n",
        "from google.colab import files\n",
        "from ultralytics import YOLO\n",
        "import matplotlib.pyplot as plt\n",
        "from PIL import Image\n",
        "import numpy as np\n",
        "\n",
        "\n",
        "# Load TIF image using PIL\n",
        "image = Image.open(img_path).convert(\"RGB\")  # Convert to RGB\n",
        "\n",
        "# Convert to numpy array (YOLO expects numpy format)\n",
        "image_np = np.array(image)\n",
        "\n",
        "# Load trained YOLO model\n",
        "model = YOLO(\"runs/detect/yolov8m_results_80/weights/best.pt\")\n",
        "\n",
        "# Run inference\n",
        "results = model(image_np)\n",
        "\n",
        "# Define output directory inside Colab\n",
        "output_dir = \"/content/output\"\n",
        "os.makedirs(output_dir, exist_ok=True)  # Create folder if it doesn't exist\n",
        "\n",
        "# Extract original filename without extension\n",
        "base_name = os.path.splitext(os.path.basename(img_path))[0]\n",
        "output_path = os.path.join(output_dir, f\"{base_name}_output.jpg\")\n",
        "\n",
        "# Display and save results\n",
        "for r in results:\n",
        "    im_array = r.plot(labels=False)  # Get the result image\n",
        "\n",
        "    # Convert array to PIL Image\n",
        "    result_image = Image.fromarray(im_array)\n",
        "\n",
        "    # Save with quality settings (JPEG format)\n",
        "    result_image.save(output_path, format=\"JPEG\", quality=95)\n",
        "\n",
        "    # Show the processed image\n",
        "    plt.imshow(result_image)\n",
        "    plt.axis(\"off\")\n",
        "    plt.show()\n",
        "\n",
        "    print(f\"Result saved at {output_path}\")\n",
        "\n",
        "# Download the image to your local machine\n",
        "files.download(output_path)\n"
      ],
      "metadata": {
        "id": "Ab-PK1fZXfZl"
      },
      "execution_count": null,
      "outputs": []
    },
    {
      "cell_type": "markdown",
      "source": [
        "Plot Metrics"
      ],
      "metadata": {
        "id": "O7gjjJlVfeXP"
      }
    },
    {
      "cell_type": "code",
      "source": [
        "from IPython.display import Image\n",
        "\n",
        "# Path to your image file\n",
        "img_path1 = '/content/runs/detect/yolov8m_results_80/results.png'\n",
        "\n",
        "# Display the image\n",
        "Image(filename=img_path1)\n",
        "\n"
      ],
      "metadata": {
        "id": "IfvOD3W6zczU"
      },
      "execution_count": null,
      "outputs": []
    },
    {
      "cell_type": "markdown",
      "metadata": {
        "id": "kJVs_4zEeVbF"
      },
      "source": [
        "# Evaluate Custom YOLOv8 Detector Performance\n"
      ]
    },
    {
      "cell_type": "markdown",
      "metadata": {
        "id": "7KN5ghjE6ZWh"
      },
      "source": [
        "Training losses and performance metrics are saved to Tensorboard and also to a logfile defined above with the **--name** flag when we train. In our case, we named this `yolov8s_results_80`. (If given no name, it defaults to `results.txt`.) The results file is plotted as a png after training completes.\n",
        "\n",
        "Note from Glenn: Partially completed `results.txt` files can be plotted with `from utils.utils import plot_results; plot_results()`."
      ]
    },
    {
      "cell_type": "code",
      "execution_count": null,
      "metadata": {
        "id": "bOy5KI2ncnWd"
      },
      "outputs": [],
      "source": [
        "# Start tensorboard\n",
        "# Launch after you have started training\n",
        "%load_ext tensorboard\n",
        "%tensorboard --logdir runs"
      ]
    },
    {
      "cell_type": "code",
      "execution_count": null,
      "metadata": {
        "id": "4SyOWS80qR32"
      },
      "outputs": [],
      "source": []
    }
  ],
  "metadata": {
    "colab": {
      "provenance": [],
      "include_colab_link": true
    },
    "kernelspec": {
      "display_name": "Python 3",
      "name": "python3"
    }
  },
  "nbformat": 4,
  "nbformat_minor": 0
}
